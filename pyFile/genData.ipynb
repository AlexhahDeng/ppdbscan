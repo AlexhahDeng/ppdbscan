{
 "cells": [
  {
   "cell_type": "code",
   "execution_count": 14,
   "metadata": {},
   "outputs": [],
   "source": [
    "import numpy as np\n",
    "import random\n",
    "import matplotlib.pyplot as plt\n",
    "\n",
    "# read file from lsun\n",
    "filename = \"/home/dd/Ubu20/ppdbscan/data/Lsun.csv\"\n",
    "p_list = []\n",
    "with open(filename) as f:\n",
    "    line = f.readline()\n",
    "    while line:\n",
    "        line_list = line.split(\",\")\n",
    "        line_int_list = []\n",
    "        for item in line_list:\n",
    "            line_int_list.append(int(item))\n",
    "        p_list.append(line_int_list)\n",
    "        line = f.readline()"
   ]
  },
  {
   "cell_type": "code",
   "execution_count": 15,
   "metadata": {},
   "outputs": [],
   "source": [
    "# split as 3 cluster\n",
    "p_list = np.asarray(p_list) # point info stored as np array\n",
    "cid_set = set(p_list[:, -1])\n",
    "# print(cid_set)\n",
    "clu_dict_list = dict()\n",
    "for item in cid_set:\n",
    "    clu_dict_list[item] = []\n",
    "for p in p_list:\n",
    "    clu_dict_list[p[-1]].append(list(p[:2])) # store as list"
   ]
  },
  {
   "cell_type": "code",
   "execution_count": 16,
   "metadata": {},
   "outputs": [
    {
     "name": "stdout",
     "output_type": "stream",
     "text": [
      "{1: [1858085, 517830], 2: [999166, 3519289], 3: [2934852, 2559311]}\n"
     ]
    }
   ],
   "source": [
    "# calculate cluster center\n",
    "center_dict = dict()\n",
    "for id in clu_dict_list.keys():\n",
    "    clu_p_list = clu_dict_list[id]\n",
    "    clu_p_list = np.asarray(clu_p_list)\n",
    "    center_dict[id] = []\n",
    "    for i in range(clu_p_list.ndim):\n",
    "        center_dict[id].append(int(sum(clu_p_list[:,i])/len(clu_p_list)))\n",
    "print(center_dict)"
   ]
  },
  {
   "cell_type": "code",
   "execution_count": 17,
   "metadata": {},
   "outputs": [
    {
     "data": {
      "image/png": "[encoded data removed]",
      "text/plain": [
       "<Figure size 432x288 with 1 Axes>"
      ]
     },
     "metadata": {
      "needs_background": "light"
     },
     "output_type": "display_data"
    }
   ],
   "source": [
    "# draw a image to show result\n",
    "colors = np.array(\n",
    "    ['g', 'r', 'c', 'm', 'y', 'k', 'w', '#2ecc71', '#ff7f50', '#2ed573', '#f0932b', '#82589f', '#7efff5',\n",
    "     '#ea5514', '#6a8d52',\n",
    "     '#12507b', '#e94829',\n",
    "     '#ddbb99', '#2c4f54', '#c3d825', '#cc7eb1', '#c9171e', '#ea5506'])\n",
    "x = p_list[:,0]\n",
    "y = p_list[:,1]\n",
    "\n",
    "# paint points\n",
    "for i in range(len(p_list)):\n",
    "    plt.scatter(x[i], y[i], s=10, c=colors[p_list[i,-1]])\n",
    "# paint centers\n",
    "for cen in center_dict.values():\n",
    "    plt.scatter(cen[0], cen[-1], s=10, c='black')\n",
    "plt.show()"
   ]
  },
  {
   "cell_type": "code",
   "execution_count": 18,
   "metadata": {},
   "outputs": [
    {
     "name": "stdout",
     "output_type": "stream",
     "text": [
      "{1: [[29780, 3928676], [4658, 997386]], 2: [[519795, 1496690], [1534234, 5385811]], 3: [[1919251, 4229498], [1668478, 3532294]]}\n"
     ]
    }
   ],
   "source": [
    "# calculate data range of each cluster\n",
    "data_range = dict()\n",
    "for id in clu_dict_list.keys():\n",
    "    c_p_list = clu_dict_list[id]\n",
    "    c_p_list = np.asarray(c_p_list)\n",
    "    data_range[id] = []\n",
    "    # calculate max/min value of each dimension\n",
    "    for dim in range(c_p_list.ndim):\n",
    "        max_val = max(c_p_list[:, dim])\n",
    "        min_val = min(c_p_list[:, dim])\n",
    "        data_range[id].append([min_val, max_val])\n",
    "print(data_range)"
   ]
  },
  {
   "cell_type": "code",
   "execution_count": 19,
   "metadata": {},
   "outputs": [],
   "source": [
    "# generate data of different number\n",
    "num = int(600/3)\n",
    "for id in clu_dict_list.keys():\n",
    "    c_p_list = clu_dict_list[id]\n",
    "    tmp_data_range = data_range[id]\n",
    "    center_list = center_dict[id]\n",
    "    for t in range(num):\n",
    "        randlist = []\n",
    "        for i in range(len(c_p_list[0])):\n",
    "            randlist.append(random.randrange(center_list[i]-500,center_list[i]+500, 3))\n",
    "        c_p_list.append(randlist)"
   ]
  },
  {
   "cell_type": "code",
   "execution_count": 20,
   "metadata": {},
   "outputs": [
    {
     "name": "stdout",
     "output_type": "stream",
     "text": [
      "400\n",
      "300\n",
      "300\n"
     ]
    },
    {
     "data": {
      "image/png": "[encoded data removed]",
      "text/plain": [
       "<Figure size 432x288 with 1 Axes>"
      ]
     },
     "metadata": {
      "needs_background": "light"
     },
     "output_type": "display_data"
    }
   ],
   "source": [
    "filename = \"/home/dd/Ubu20/ppdbscan/data/Lsun-1k.csv\"\n",
    "with open(filename, \"w\") as f:\n",
    "    for key in clu_dict_list.keys():\n",
    "        c_p_list = clu_dict_list[key]\n",
    "        for i in range(len(c_p_list)):\n",
    "            line = str(c_p_list[i][0]) + \",\" + str(c_p_list[i][1]) + \",\" + str(key) + '\\n'\n",
    "            plt.scatter(c_p_list[i][0], c_p_list[i][1], s=10, c=colors[key])\n",
    "            f.writelines(line)\n",
    "        print(len(c_p_list))\n",
    "    plt.show()\n",
    "\n"
   ]
  }
 ],
 "metadata": {
  "kernelspec": {
   "display_name": "Python 3.8.8 ('base')",
   "language": "python",
   "name": "python3"
  },
  "language_info": {
   "codemirror_mode": {
    "name": "ipython",
    "version": 3
   },
   "file_extension": ".py",
   "mimetype": "text/x-python",
   "name": "python",
   "nbconvert_exporter": "python",
   "pygments_lexer": "ipython3",
   "version": "3.8.8"
  },
  "orig_nbformat": 4,
  "vscode": {
   "interpreter": {
    "hash": "b6c6c3e09270e0adbf3a484b33ad53a445861225f90f7d3e7e8e42bf1203d4a4"
   }
  }
 },
 "nbformat": 4,
 "nbformat_minor": 2
}
