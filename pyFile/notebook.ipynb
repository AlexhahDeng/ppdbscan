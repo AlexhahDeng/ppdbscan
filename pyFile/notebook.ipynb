{
 "cells": [
  {
   "cell_type": "code",
   "execution_count": 1,
   "metadata": {},
   "outputs": [],
   "source": [
    "import numpy as np"
   ]
  },
  {
   "cell_type": "code",
   "execution_count": 2,
   "metadata": {},
   "outputs": [
    {
     "name": "stdout",
     "output_type": "stream",
     "text": [
      "read data done!\n"
     ]
    }
   ],
   "source": [
    "# 打开文件读取数据\n",
    "# [数据，数据，真实簇id，计算簇id]\n",
    "with open(\"./data/res.csv\") as f:\n",
    "    line = f.readline()\n",
    "    \n",
    "    p_list = []\n",
    "    while line:\n",
    "        split_item = line.split(\",\")\n",
    "        tmp = []\n",
    "        for item in split_item:\n",
    "            tmp.append(int(item))\n",
    "        p_list.append(tmp)\n",
    "        line = f.readline()\n",
    "p_list = np.asarray(p_list)\n",
    "print(\"read data done!\")"
   ]
  },
  {
   "cell_type": "code",
   "execution_count": 3,
   "metadata": {},
   "outputs": [
    {
     "name": "stdout",
     "output_type": "stream",
     "text": [
      "明文簇分类结果：{1: 300, 2: 316, 3: 314, 4: 318, 5: 325, 6: 326, 7: 334, 8: 338, 9: 341, 10: 342, 11: 347, 12: 349, 13: 350, 14: 350, 15: 350}\n"
     ]
    }
   ],
   "source": [
    "# 计算明文簇相关信息\n",
    "p_id_set = set(p_list[:, -2])\n",
    "\n",
    "p_id_dict = dict()\n",
    "for item in p_list[:, -2]:\n",
    "    if item in p_id_dict:\n",
    "        p_id_dict[item] = p_id_dict[item]+1\n",
    "    else:\n",
    "        p_id_dict[item] = 1\n",
    "    \n",
    "print(\"明文簇分类结果：\"+str(p_id_dict))"
   ]
  },
  {
   "cell_type": "code",
   "execution_count": 4,
   "metadata": {},
   "outputs": [
    {
     "name": "stdout",
     "output_type": "stream",
     "text": [
      "密文簇分类结果：{5007: 288, 5031: 1, 5032: 1, 5033: 1, 5034: 1, 5056: 1, 5125: 1, 5133: 1, 5134: 1, 7232: 335, 5195: 1, 5262: 1, 5304: 311, 5382: 346, 5385: 1, 5386: 1, 5602: 1, 5619: 310, 5744: 1, 5767: 1, 5793: 1, 5812: 1, 5933: 317, 9643: 344, 6249: 324, 6433: 1, 6571: 330, 6693: 1, 8249: 338, 6897: 333, 7197: 1, 7284: 1, 8942: 349, 7374: 1, 7501: 1, 7569: 334, 7689: 1, 7715: 1, 7732: 1, 7747: 1, 7780: 1, 7790: 1, 7852: 1, 7908: 332, 7922: 1, 7945: 1, 7978: 1, 8130: 348, 8181: 1, 8211: 1, 8227: 1, 8247: 1, 8266: 1, 8310: 1, 8341: 1, 8592: 1, 8617: 1, 8704: 1, 8810: 1, 8924: 1, 8956: 1, 9034: 1, 9287: 1, 9437: 1, 9442: 1, 9465: 1, 9562: 1, 9566: 1, 9656: 1, 9668: 1, 9693: 1, 9709: 1, 9731: 1, 9775: 1, 9931: 1, 9975: 1}\n"
     ]
    }
   ],
   "source": [
    "# 计算密文簇相关信息\n",
    "all_id_set = set()\n",
    "c_id_set = set()\n",
    "for item in p_list[:, -1]:\n",
    "    if item in all_id_set:\n",
    "        c_id_set.add(item)\n",
    "    all_id_set.add(item)\n",
    "noise_id_set = all_id_set - c_id_set\n",
    "\n",
    "c_id_dict = dict()\n",
    "for item in p_list[:, -1]:\n",
    "    # if item in noise_id_set:\n",
    "    #     continue\n",
    "    if item in c_id_dict:\n",
    "        c_id_dict[item] = c_id_dict[item] + 1\n",
    "    else:\n",
    "        c_id_dict[item] = 1\n",
    "print(\"密文簇分类结果：\"+str(c_id_dict))"
   ]
  },
  {
   "cell_type": "code",
   "execution_count": 5,
   "metadata": {},
   "outputs": [
    {
     "name": "stdout",
     "output_type": "stream",
     "text": [
      "{1: {5007: 288, 5031: 1, 5032: 1, 5033: 1, 5034: 1, 5056: 1, 5125: 1, 5133: 1, 5134: 1, 7232: 2, 5195: 1, 5262: 1}, 2: {5304: 311, 5382: 2, 5385: 1, 5386: 1, 5602: 1}, 3: {5619: 310, 5744: 1, 5767: 1, 5793: 1, 5812: 1}, 4: {5933: 316, 9643: 2}, 5: {6249: 324, 6433: 1}, 6: {6571: 324, 6693: 1, 8249: 1}, 7: {6897: 333, 7197: 1}, 8: {7232: 333, 7284: 1, 8942: 2, 7374: 1, 7501: 1}, 9: {7569: 334, 7689: 1, 7715: 1, 7732: 1, 7747: 1, 7780: 1, 7790: 1, 7852: 1}, 10: {7908: 332, 7922: 1, 7945: 1, 7978: 1, 8130: 3, 8181: 1, 8211: 1, 8227: 1, 8247: 1}, 11: {8249: 337, 8266: 1, 8310: 1, 8341: 1, 6571: 6, 8592: 1}, 12: {8130: 345, 8617: 1, 8704: 1, 8810: 1, 8924: 1}, 13: {8942: 347, 8956: 1, 9034: 1, 9287: 1}, 14: {5382: 344, 9437: 1, 9442: 1, 9465: 1, 9562: 1, 9566: 1, 5933: 1}, 15: {9643: 342, 9656: 1, 9668: 1, 9693: 1, 9709: 1, 9731: 1, 9775: 1, 9931: 1, 9975: 1}}\n",
      "806279\n"
     ]
    }
   ],
   "source": [
    "# 企图计算nij\n",
    "res = dict()\n",
    "for key in p_id_dict.keys():\n",
    "    nij = dict()\n",
    "    for item in p_list:\n",
    "        pid = item[-2]\n",
    "        cid = item[-1]\n",
    "        if pid != key:\n",
    "            continue\n",
    "        if cid in nij:\n",
    "            nij[cid] += 1\n",
    "        else:\n",
    "            nij[cid] = 1\n",
    "    res[key] = nij\n",
    "    \n",
    "print(res)\n",
    "\n",
    "nij = 0\n",
    "for item in res.keys():\n",
    "    for val in res[item].values():\n",
    "        nij = nij + int((val*(val-1))/2)\n",
    "\n",
    "print(nij)"
   ]
  },
  {
   "cell_type": "code",
   "execution_count": 6,
   "metadata": {},
   "outputs": [
    {
     "name": "stdout",
     "output_type": "stream",
     "text": [
      "0.978723836349217\n"
     ]
    }
   ],
   "source": [
    "p_sum = 0\n",
    "for item in p_id_dict.values():\n",
    "    p_sum = p_sum + int((item*(item-1))/2)\n",
    "\n",
    "\n",
    "c_sum = 0\n",
    "for item in c_id_dict.values():\n",
    "    c_sum = c_sum + int((item*(item-1))/2)\n",
    "\n",
    "len = len(p_list)\n",
    "ari = (nij - (p_sum*c_sum)/int((len*(len-1))/2))/((p_sum+c_sum)/2-(p_sum*c_sum)/int((len*(len-1))/2))\n",
    "\n",
    "print(ari)"
   ]
  }
 ],
 "metadata": {
  "kernelspec": {
   "display_name": "Python 3.8.10 64-bit",
   "language": "python",
   "name": "python3"
  },
  "language_info": {
   "codemirror_mode": {
    "name": "ipython",
    "version": 3
   },
   "file_extension": ".py",
   "mimetype": "text/x-python",
   "name": "python",
   "nbconvert_exporter": "python",
   "pygments_lexer": "ipython3",
   "version": "3.8.10"
  },
  "orig_nbformat": 4,
  "vscode": {
   "interpreter": {
    "hash": "916dbcbb3f70747c44a77c7bcd40155683ae19c65e1c03b4aa3499c5328201f1"
   }
  }
 },
 "nbformat": 4,
 "nbformat_minor": 2
}
