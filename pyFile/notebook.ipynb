{
 "cells": [
  {
   "cell_type": "code",
   "execution_count": 19,
   "metadata": {},
   "outputs": [],
   "source": [
    "import numpy as np"
   ]
  },
  {
   "cell_type": "code",
   "execution_count": 20,
   "metadata": {},
   "outputs": [
    {
     "name": "stdout",
     "output_type": "stream",
     "text": [
      "read data done!\n"
     ]
    }
   ],
   "source": [
    "# 打开文件读取数据\n",
    "# [数据，数据，真实簇id，计算簇id]\n",
    "with open(\"../res/03-09-aggre.csv\") as f:\n",
    "    line = f.readline()\n",
    "    \n",
    "    p_list = []\n",
    "    while line:\n",
    "        split_item = line.split(\",\")\n",
    "        tmp = []\n",
    "        for item in split_item:\n",
    "            tmp.append(int(item))\n",
    "        p_list.append(tmp)\n",
    "        line = f.readline()\n",
    "p_list = np.asarray(p_list)\n",
    "print(\"read data done!\")"
   ]
  },
  {
   "cell_type": "code",
   "execution_count": 21,
   "metadata": {},
   "outputs": [
    {
     "name": "stdout",
     "output_type": "stream",
     "text": [
      "明文簇分类结果：{2: 170, 7: 34, 4: 273, 3: 102, 6: 130, 1: 45, 5: 34}\n"
     ]
    }
   ],
   "source": [
    "# 计算明文簇相关信息\n",
    "p_id_set = set(p_list[:, -2])\n",
    "\n",
    "p_id_dict = dict()\n",
    "for item in p_list[:, -2]:\n",
    "    if item in p_id_dict:\n",
    "        p_id_dict[item] = p_id_dict[item]+1\n",
    "    else:\n",
    "        p_id_dict[item] = 1\n",
    "    \n",
    "print(\"明文簇分类结果：\"+str(p_id_dict))"
   ]
  },
  {
   "cell_type": "code",
   "execution_count": 22,
   "metadata": {},
   "outputs": [
    {
     "name": "stdout",
     "output_type": "stream",
     "text": [
      "密文簇分类结果：{795: 170, 964: 307, 1270: 232, 1502: 45, 1547: 34}\n"
     ]
    }
   ],
   "source": [
    "# 计算密文簇相关信息\n",
    "all_id_set = set()\n",
    "c_id_set = set()\n",
    "for item in p_list[:, -1]:\n",
    "    if item in all_id_set:\n",
    "        c_id_set.add(item)\n",
    "    all_id_set.add(item)\n",
    "noise_id_set = all_id_set - c_id_set\n",
    "\n",
    "c_id_dict = dict()\n",
    "for item in p_list[:, -1]:\n",
    "    # if item in noise_id_set:\n",
    "    #     continue\n",
    "    if item in c_id_dict:\n",
    "        c_id_dict[item] = c_id_dict[item] + 1\n",
    "    else:\n",
    "        c_id_dict[item] = 1\n",
    "print(\"密文簇分类结果：\"+str(c_id_dict))"
   ]
  },
  {
   "cell_type": "code",
   "execution_count": 23,
   "metadata": {},
   "outputs": [
    {
     "name": "stdout",
     "output_type": "stream",
     "text": [
      "{2: {795: 170}, 7: {964: 34}, 4: {964: 273}, 3: {1270: 102}, 6: {1270: 130}, 1: {1502: 45}, 5: {1547: 34}}\n",
      "67141\n"
     ]
    }
   ],
   "source": [
    "# 企图计算nij\n",
    "res = dict()\n",
    "for key in p_id_dict.keys():\n",
    "    nij = dict()\n",
    "    for item in p_list:\n",
    "        pid = item[-2]\n",
    "        cid = item[-1]\n",
    "        if pid != key:\n",
    "            continue\n",
    "        if cid in nij:\n",
    "            nij[cid] += 1\n",
    "        else:\n",
    "            nij[cid] = 1\n",
    "    res[key] = nij\n",
    "    \n",
    "print(res)\n",
    "\n",
    "nij = 0\n",
    "for item in res.keys():\n",
    "    for val in res[item].values():\n",
    "        nij = nij + int((val*(val-1))/2)\n",
    "\n",
    "print(nij)"
   ]
  },
  {
   "cell_type": "code",
   "execution_count": 24,
   "metadata": {},
   "outputs": [
    {
     "name": "stdout",
     "output_type": "stream",
     "text": [
      "0.8089434170360936\n"
     ]
    }
   ],
   "source": [
    "p_sum = 0\n",
    "for item in p_id_dict.values():\n",
    "    p_sum = p_sum + int((item*(item-1))/2)\n",
    "\n",
    "\n",
    "c_sum = 0\n",
    "for item in c_id_dict.values():\n",
    "    c_sum = c_sum + int((item*(item-1))/2)\n",
    "\n",
    "m = len(p_list)\n",
    "ari = (nij - (p_sum*c_sum)/int((m*(m-1))/2))/((p_sum+c_sum)/2-(p_sum*c_sum)/int((m*(m-1))/2))\n",
    "\n",
    "print(ari)"
   ]
  },
  {
   "cell_type": "markdown",
   "metadata": {},
   "source": []
  }
 ],
 "metadata": {
  "kernelspec": {
   "display_name": "Python 3.8.10 64-bit",
   "language": "python",
   "name": "python3"
  },
  "language_info": {
   "codemirror_mode": {
    "name": "ipython",
    "version": 3
   },
   "file_extension": ".py",
   "mimetype": "text/x-python",
   "name": "python",
   "nbconvert_exporter": "python",
   "pygments_lexer": "ipython3",
   "version": "3.8.10"
  },
  "orig_nbformat": 4,
  "vscode": {
   "interpreter": {
    "hash": "916dbcbb3f70747c44a77c7bcd40155683ae19c65e1c03b4aa3499c5328201f1"
   }
  }
 },
 "nbformat": 4,
 "nbformat_minor": 2
}
